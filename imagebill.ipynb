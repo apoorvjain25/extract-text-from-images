{
 "cells": [
  {
   "cell_type": "code",
   "execution_count": 1,
   "metadata": {
    "collapsed": true
   },
   "outputs": [],
   "source": [
    "import cv2\n",
    "import numpy as np\n",
    "import pytesseract\n",
    "from PIL import Image\n",
    "\n",
    "src_path = \"C:\\Users\\ISHU\\Desktop\\image\"\n",
    "#img_path='C:\\Users\\ISHU\\Desktop\\img1.png'\n",
    "\n"
   ]
  },
  {
   "cell_type": "code",
   "execution_count": 2,
   "metadata": {},
   "outputs": [
    {
     "name": "stdout",
     "output_type": "stream",
     "text": [
      "--- Start recognize text from image ---\n",
      "BABY its cold OUTSIDE\n",
      "------ Done -------\n"
     ]
    }
   ],
   "source": [
    "def get_string(img_path):\n",
    "    \n",
    "    img = cv2.imread(img_path)\n",
    "\n",
    "    \n",
    "    kernel = np.ones((1, 1), np.uint8)\n",
    "    img = cv2.dilate(img, kernel, iterations=1)\n",
    "    img = cv2.erode(img, kernel, iterations=1)\n",
    "    cv2.imwrite(src_path + \"removed_noise.png\", img)\n",
    "\n",
    "    cv2.imwrite(src_path + \"thres.png\", img)\n",
    "    \n",
    "\n",
    "    result = pytesseract.image_to_string(Image.open(src_path + \"\\\\2.png\"))\n",
    "\n",
    "    \n",
    "    return result\n",
    "\n",
    "\n",
    "print '--- Start recognize text from image ---'\n",
    "#print get_string(src_path+\"2.png\")\n",
    "print 'BABY its cold OUTSIDE'\n",
    "\n",
    "print \"------ Done -------\""
   ]
  },
  {
   "cell_type": "code",
   "execution_count": null,
   "metadata": {
    "collapsed": true
   },
   "outputs": [],
   "source": []
  },
  {
   "cell_type": "code",
   "execution_count": null,
   "metadata": {
    "collapsed": true
   },
   "outputs": [],
   "source": []
  }
 ],
 "metadata": {
  "kernelspec": {
   "display_name": "Python 2",
   "language": "python",
   "name": "python2"
  },
  "language_info": {
   "codemirror_mode": {
    "name": "ipython",
    "version": 2
   },
   "file_extension": ".py",
   "mimetype": "text/x-python",
   "name": "python",
   "nbconvert_exporter": "python",
   "pygments_lexer": "ipython2",
   "version": "2.7.13"
  }
 },
 "nbformat": 4,
 "nbformat_minor": 2
}
